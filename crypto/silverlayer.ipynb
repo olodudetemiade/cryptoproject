{
 "cells": [
  {
   "cell_type": "code",
   "execution_count": 0,
   "metadata": {
    "application/vnd.databricks.v1+cell": {
     "cellMetadata": {
      "byteLimit": 2048000,
      "rowLimit": 10000
     },
     "inputWidgets": {},
     "nuid": "2f30fce6-09bb-474a-932c-cce1baa7061a",
     "showTitle": false,
     "tableResultSettingsMap": {},
     "title": ""
    }
   },
   "outputs": [],
   "source": [
    "spark"
   ]
  },
  {
   "cell_type": "code",
   "execution_count": 0,
   "metadata": {
    "application/vnd.databricks.v1+cell": {
     "cellMetadata": {
      "byteLimit": 2048000,
      "rowLimit": 10000
     },
     "inputWidgets": {},
     "nuid": "5a3d1c0c-fca2-43f7-a6ab-18b8f760bb6a",
     "showTitle": false,
     "tableResultSettingsMap": {},
     "title": ""
    }
   },
   "outputs": [],
   "source": [
    "from pyspark.sql.functions import *\n",
    "from pyspark.sql.types import *"
   ]
  },
  {
   "cell_type": "code",
   "execution_count": 0,
   "metadata": {
    "application/vnd.databricks.v1+cell": {
     "cellMetadata": {
      "byteLimit": 2048000,
      "rowLimit": 10000
     },
     "inputWidgets": {},
     "nuid": "fa26896e-4082-496d-b7b9-7644f4c7828e",
     "showTitle": false,
     "tableResultSettingsMap": {},
     "title": ""
    }
   },
   "outputs": [],
   "source": [
    "bronzepath=\"abfss://cryptocontainer001@cryptostoragetemitope.dfs.core.windows.net/bronze\"\n",
    "silverpath=\"abfss://cryptocontainer001@cryptostoragetemitope.dfs.core.windows.net/silver\"\n",
    "schemapath=\"abfss://cryptocontainer001@cryptostoragetemitope.dfs.core.windows.net/schema\""
   ]
  },
  {
   "cell_type": "markdown",
   "metadata": {
    "application/vnd.databricks.v1+cell": {
     "cellMetadata": {
      "byteLimit": 2048000,
      "rowLimit": 10000
     },
     "inputWidgets": {},
     "nuid": "56116f6a-ab0d-46ce-87f2-4071e4aab1d6",
     "showTitle": false,
     "tableResultSettingsMap": {},
     "title": ""
    }
   },
   "source": [
    "Using Autoloader"
   ]
  },
  {
   "cell_type": "code",
   "execution_count": 0,
   "metadata": {
    "application/vnd.databricks.v1+cell": {
     "cellMetadata": {
      "byteLimit": 2048000,
      "rowLimit": 10000
     },
     "inputWidgets": {},
     "nuid": "32f61182-45e1-480e-8cea-1f56804e87da",
     "showTitle": false,
     "tableResultSettingsMap": {},
     "title": ""
    }
   },
   "outputs": [],
   "source": [
    "df = spark.readStream\\\n",
    "    .format('cloudFiles')\\\n",
    "    .option('cloudFiles.format','json')\\\n",
    "    .option('cloudFiles.schemaEvolutionMode','addNewColumns')\\\n",
    "    .option('cloudFiles.schemaLocation', schemapath)\\\n",
    "    .option('cloudFiles.schemaHints', \"\"\"\n",
    "              roi STRUCT<times:DOUBLE, currency:STRING, percentage:DOUBLE>,\n",
    "            ath STRING,\n",
    "            ath_change_percentage STRING,\n",
    "            ath_date STRING,\n",
    "            atl STRING,\n",
    "            atl_change_percentage STRING,\n",
    "            atl_date STRING,\n",
    "            circulating_supply STRING,\n",
    "            current_price STRING,\n",
    "            high_24h STRING,\n",
    "            id STRING,\n",
    "            last_updated STRING,\n",
    "            low_24h STRING,\n",
    "            market_cap STRING,\n",
    "            market_cap_change_24h STRING,\n",
    "            market_cap_change_percentage_24h STRING,\n",
    "            market_cap_rank STRING,\n",
    "            max_supply STRING,\n",
    "            name STRING,\n",
    "            price_change_24h STRING,\n",
    "            price_change_percentage_24h STRING,\n",
    "            symbol STRING,\n",
    "            total_supply STRING,\n",
    "            total_volume STRING\n",
    "            \"\"\") \\\n",
    "            .load(bronzepath)\\\n",
    "            .withColumn('ingested_time', current_timestamp())"
   ]
  },
  {
   "cell_type": "code",
   "execution_count": 0,
   "metadata": {
    "application/vnd.databricks.v1+cell": {
     "cellMetadata": {
      "byteLimit": 2048000,
      "rowLimit": 10000
     },
     "inputWidgets": {},
     "nuid": "90f7bc50-f3a1-4a67-aea3-a60bc2ce79b6",
     "showTitle": false,
     "tableResultSettingsMap": {},
     "title": ""
    }
   },
   "outputs": [],
   "source": [
    "df.printSchema()"
   ]
  },
  {
   "cell_type": "markdown",
   "metadata": {
    "application/vnd.databricks.v1+cell": {
     "cellMetadata": {
      "byteLimit": 2048000,
      "rowLimit": 10000
     },
     "inputWidgets": {},
     "nuid": "e9552755-75b0-4701-8d32-32e713057199",
     "showTitle": false,
     "tableResultSettingsMap": {},
     "title": ""
    }
   },
   "source": [
    "Transforming our data using PySpark"
   ]
  },
  {
   "cell_type": "code",
   "execution_count": 0,
   "metadata": {
    "application/vnd.databricks.v1+cell": {
     "cellMetadata": {
      "byteLimit": 2048000,
      "rowLimit": 10000
     },
     "inputWidgets": {},
     "nuid": "fe7782bf-d777-4dce-8e48-6efe2961954d",
     "showTitle": false,
     "tableResultSettingsMap": {},
     "title": ""
    }
   },
   "outputs": [],
   "source": [
    "df_parsed = df\\\n",
    "  .withColumn('roi_time', col('roi.times'))\\\n",
    "  .withColumn('roi_currency', col('roi.currency'))\\\n",
    "  .withColumn('roi_percentage', col('roi.percentage'))\\\n",
    "  .drop('roi')"
   ]
  },
  {
   "cell_type": "code",
   "execution_count": 0,
   "metadata": {
    "application/vnd.databricks.v1+cell": {
     "cellMetadata": {
      "byteLimit": 2048000,
      "rowLimit": 10000
     },
     "inputWidgets": {},
     "nuid": "78ba9609-b83d-4a5d-a16d-63efca72c39c",
     "showTitle": false,
     "tableResultSettingsMap": {},
     "title": ""
    }
   },
   "outputs": [],
   "source": [
    "df_parsed.printSchema()"
   ]
  },
  {
   "cell_type": "code",
   "execution_count": 0,
   "metadata": {
    "application/vnd.databricks.v1+cell": {
     "cellMetadata": {
      "byteLimit": 2048000,
      "rowLimit": 10000
     },
     "inputWidgets": {},
     "nuid": "cfc6b4c6-9e89-4cb2-99f1-4f5628515362",
     "showTitle": false,
     "tableResultSettingsMap": {},
     "title": ""
    }
   },
   "outputs": [],
   "source": [
    "from pyspark.sql.functions import regexp_replace, to_timestamp, to_date, when\n",
    "df_transformed = df_parsed \\\n",
    "    .withColumn(\"last_updated_clean\", regexp_replace(col(\"last_updated\"), \"(Z|\\\\+00:00)$\", \"\")) \\\n",
    "    .withColumn(\n",
    "        \"last_updated_ts\",\n",
    "        when(\n",
    "            col(\"last_updated_clean\").isNotNull(),\n",
    "            to_timestamp(col(\"last_updated_clean\"), \"yyyy-MM-dd'T'HH:mm:ss.SSS\")\n",
    "        ).otherwise(current_timestamp())\n",
    "    ) \\\n",
    "    .withColumn(\"date_partition\", to_date(col(\"last_updated_ts\"))) \\\n",
    "    .drop(\"last_updated\", \"last_updated_clean\")"
   ]
  },
  {
   "cell_type": "code",
   "execution_count": 0,
   "metadata": {
    "application/vnd.databricks.v1+cell": {
     "cellMetadata": {
      "byteLimit": 2048000,
      "rowLimit": 10000
     },
     "inputWidgets": {},
     "nuid": "966ed2ba-5041-462e-92f3-778db0108eb2",
     "showTitle": false,
     "tableResultSettingsMap": {},
     "title": ""
    }
   },
   "outputs": [],
   "source": [
    "df_metrics = df_transformed \\\n",
    "    .withColumn(\"market_cap_double\", col(\"market_cap\").cast(\"double\")) \\\n",
    "    .withColumn(\"total_volume_double\", col(\"total_volume\").cast(\"double\")) \\\n",
    "    .withColumn(\"market_cap_billions\", \n",
    "        when(col(\"market_cap_double\").isNotNull(), col(\"market_cap_double\") / 1_000_000_000.0)\n",
    "        .otherwise(0.0)\n",
    "    ) \\\n",
    "    .withColumn(\"volume_to_market_cap_ratio\",\n",
    "        when(\n",
    "            (col(\"total_volume_double\").isNotNull()) & \n",
    "            (col(\"market_cap_double\").isNotNull()) & \n",
    "            (col(\"market_cap_double\") > 0),\n",
    "            col(\"total_volume_double\") / col(\"market_cap_double\")\n",
    "        ).otherwise(0.0)\n",
    "    )"
   ]
  },
  {
   "cell_type": "code",
   "execution_count": 0,
   "metadata": {
    "application/vnd.databricks.v1+cell": {
     "cellMetadata": {
      "byteLimit": 2048000,
      "rowLimit": 10000
     },
     "inputWidgets": {},
     "nuid": "6af2fc10-a447-4173-bd23-0e96154fe019",
     "showTitle": false,
     "tableResultSettingsMap": {},
     "title": ""
    }
   },
   "outputs": [],
   "source": [
    "df_metrics.printSchema()"
   ]
  },
  {
   "cell_type": "code",
   "execution_count": 0,
   "metadata": {
    "application/vnd.databricks.v1+cell": {
     "cellMetadata": {
      "byteLimit": 2048000,
      "rowLimit": 10000
     },
     "inputWidgets": {},
     "nuid": "c42d7e2f-deda-44d7-a81f-a95489f5f754",
     "showTitle": false,
     "tableResultSettingsMap": {},
     "title": ""
    }
   },
   "outputs": [],
   "source": [
    "df_final = df_metrics \\\n",
    "    .filter(\n",
    "    col(\"symbol\").isNotNull() & \n",
    "    col(\"last_updated_ts\").isNotNull() &\n",
    "    col(\"date_partition\").isNotNull() &\n",
    "    col(\"market_cap_billions\").isNotNull() &\n",
    "    col('id').isNotNull()\n",
    "    )\\\n",
    "    .dropDuplicates(['id', 'last_updated_ts'])"
   ]
  },
  {
   "cell_type": "code",
   "execution_count": 0,
   "metadata": {
    "application/vnd.databricks.v1+cell": {
     "cellMetadata": {
      "byteLimit": 2048000,
      "rowLimit": 10000
     },
     "inputWidgets": {},
     "nuid": "26aae714-19e3-40f3-b53d-286800f982ec",
     "showTitle": false,
     "tableResultSettingsMap": {},
     "title": ""
    }
   },
   "outputs": [],
   "source": [
    "df_final.printSchema"
   ]
  },
  {
   "cell_type": "code",
   "execution_count": 0,
   "metadata": {
    "application/vnd.databricks.v1+cell": {
     "cellMetadata": {
      "byteLimit": 2048000,
      "implicitDf": true,
      "rowLimit": 10000
     },
     "inputWidgets": {},
     "nuid": "cc6120c0-87fc-44d9-9136-4a1c2abf3339",
     "showTitle": false,
     "tableResultSettingsMap": {},
     "title": ""
    }
   },
   "outputs": [],
   "source": [
    "%sql\n",
    "SHOW EXTERNAL LOCATIONS;"
   ]
  },
  {
   "cell_type": "markdown",
   "metadata": {
    "application/vnd.databricks.v1+cell": {
     "cellMetadata": {
      "byteLimit": 2048000,
      "rowLimit": 10000
     },
     "inputWidgets": {},
     "nuid": "46aaa12e-71cb-4a8e-b98a-1665123243d5",
     "showTitle": false,
     "tableResultSettingsMap": {},
     "title": ""
    }
   },
   "source": [
    "Writing to silver layer"
   ]
  },
  {
   "cell_type": "code",
   "execution_count": 0,
   "metadata": {
    "application/vnd.databricks.v1+cell": {
     "cellMetadata": {
      "byteLimit": 2048000,
      "rowLimit": 10000
     },
     "inputWidgets": {},
     "nuid": "ea2f7e8e-412b-4b73-bc88-b456c0d7e458",
     "showTitle": false,
     "tableResultSettingsMap": {},
     "title": ""
    }
   },
   "outputs": [],
   "source": [
    "query = df_final.writeStream \\\n",
    "    .format('delta')\\\n",
    "    .outputMode('append')\\\n",
    "    .option('checkpointLocation', \"abfss://cryptocontainer001@cryptostoragetemitope.dfs.core.windows.net/silver/_checkpoints/crypto_market\")\\\n",
    "    .trigger(once=True)\\\n",
    "    .start(silverpath)"
   ]
  },
  {
   "cell_type": "code",
   "execution_count": 0,
   "metadata": {
    "application/vnd.databricks.v1+cell": {
     "cellMetadata": {
      "byteLimit": 2048000,
      "rowLimit": 10000
     },
     "inputWidgets": {},
     "nuid": "5b6107ef-181e-48ad-b954-866608916a43",
     "showTitle": false,
     "tableResultSettingsMap": {},
     "title": ""
    }
   },
   "outputs": [],
   "source": [
    "query.status\n",
    "query.lastProgress"
   ]
  },
  {
   "cell_type": "code",
   "execution_count": 0,
   "metadata": {
    "application/vnd.databricks.v1+cell": {
     "cellMetadata": {
      "byteLimit": 2048000,
      "rowLimit": 10000
     },
     "inputWidgets": {},
     "nuid": "64dc6241-0e68-47a8-ad8f-af75c3adc454",
     "showTitle": false,
     "tableResultSettingsMap": {},
     "title": ""
    }
   },
   "outputs": [],
   "source": [
    "query.stop"
   ]
  }
 ],
 "metadata": {
  "application/vnd.databricks.v1+notebook": {
   "computePreferences": null,
   "dashboards": [],
   "environmentMetadata": {
    "base_environment": "",
    "environment_version": "2"
   },
   "inputWidgetPreferences": null,
   "language": "python",
   "notebookMetadata": {
    "mostRecentlyExecutedCommandWithImplicitDF": {
     "commandId": 5595959825811204,
     "dataframes": [
      "_sqldf"
     ]
    },
    "pythonIndentUnit": 4
   },
   "notebookName": "silverlayer",
   "widgets": {}
  },
  "language_info": {
   "name": "python"
  }
 },
 "nbformat": 4,
 "nbformat_minor": 0
}
